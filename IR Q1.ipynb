{
  "nbformat": 4,
  "nbformat_minor": 0,
  "metadata": {
    "colab": {
      "name": "Q1",
      "provenance": [],
      "collapsed_sections": []
    },
    "kernelspec": {
      "name": "python3",
      "display_name": "Python 3"
    },
    "language_info": {
      "name": "python"
    }
  },
  "cells": [
    {
      "cell_type": "code",
      "execution_count": null,
      "metadata": {
        "colab": {
          "base_uri": "https://localhost:8080/"
        },
        "id": "Hhrt6Sqe4cmh",
        "outputId": "2101e5c2-5c7e-4fe4-cb65-5fc851143d52"
      },
      "outputs": [
        {
          "output_type": "stream",
          "name": "stdout",
          "text": [
            "[nltk_data] Downloading package stopwords to /root/nltk_data...\n",
            "[nltk_data]   Package stopwords is already up-to-date!\n",
            "[nltk_data] Downloading package stopwords to /root/nltk_data...\n",
            "[nltk_data]   Package stopwords is already up-to-date!\n",
            "[nltk_data] Downloading package punkt to /root/nltk_data...\n",
            "[nltk_data]   Package punkt is already up-to-date!\n",
            "[nltk_data] Downloading package wordnet to /root/nltk_data...\n",
            "[nltk_data]   Package wordnet is already up-to-date!\n"
          ]
        }
      ],
      "source": [
        "import pandas as pd\n",
        "import numpy as np\n",
        "import os \n",
        "import pickle\n",
        "import nltk\n",
        "from nltk.corpus import stopwords  \n",
        "from nltk.tokenize import word_tokenize \n",
        "from nltk.stem import WordNetLemmatizer  \n",
        "lemmatizer = WordNetLemmatizer() \n",
        "import nltk\n",
        "nltk.download('stopwords')\n",
        "english_stopwords = set(stopwords.words('english')) \n",
        "nltk.download('stopwords')\n",
        "nltk.download('punkt')\n",
        "nltk.download('wordnet')\n",
        "import re\n",
        "import string\n",
        "from re import search"
      ]
    },
    {
      "cell_type": "code",
      "source": [
        "from google.colab import drive\n",
        "drive.mount('/content/gdrive')\n"
      ],
      "metadata": {
        "colab": {
          "base_uri": "https://localhost:8080/"
        },
        "id": "LZAj5VBG5aZk",
        "outputId": "212b9849-813c-4e05-8678-9d700603080b"
      },
      "execution_count": null,
      "outputs": [
        {
          "output_type": "stream",
          "name": "stdout",
          "text": [
            "Drive already mounted at /content/gdrive; to attempt to forcibly remount, call drive.mount(\"/content/gdrive\", force_remount=True).\n"
          ]
        }
      ]
    },
    {
      "cell_type": "code",
      "source": [
        "dir=\"/content/gdrive/MyDrive/IR Assignments/Assignment 3/p2p-Gnutella08.txt\""
      ],
      "metadata": {
        "id": "sdBHnaeP5e64"
      },
      "execution_count": null,
      "outputs": []
    },
    {
      "cell_type": "code",
      "source": [
        "#content = dir.read()\n",
        "with open(dir, 'r',errors='ignore',encoding='latin-1') as file:\n",
        "  content = file.read()"
      ],
      "metadata": {
        "id": "USUS8FBj50Vx"
      },
      "execution_count": null,
      "outputs": []
    },
    {
      "cell_type": "code",
      "source": [
        "#read_file = pd.read_csv(r'/content/gdrive/MyDrive/IR Assignments/Assignment 3/email-Eu-core (1).txt',delimiter = '\\n')\n",
        "#read_file.to_csv (r'/content/gdrive/MyDrive/IR Assignments/Assignment 3/Dataset_test.csv', index=None)"
      ],
      "metadata": {
        "id": "_WUTyk_Q576j"
      },
      "execution_count": null,
      "outputs": []
    },
    {
      "cell_type": "code",
      "source": [
        "df = pd.read_csv('/content/gdrive/MyDrive/IR Assignments/Assignment 3/BC_dataset.csv')"
      ],
      "metadata": {
        "id": "zZNtqbAL6TV2"
      },
      "execution_count": null,
      "outputs": []
    },
    {
      "cell_type": "markdown",
      "source": [
        "### **Number of Nodes**"
      ],
      "metadata": {
        "id": "HmVVDYZuNNEG"
      }
    },
    {
      "cell_type": "code",
      "source": [
        "def No_Of_Nodes(df):\n",
        "  l=[]\n",
        "  for i in range(len(df)):\n",
        "    for j in range(len(df.iloc[3])):\n",
        "      l.append(df.iloc[i][j])\n",
        "  l=set(l)\n",
        "  return len(l)\n"
      ],
      "metadata": {
        "id": "xMQfqa_F6997"
      },
      "execution_count": null,
      "outputs": []
    },
    {
      "cell_type": "code",
      "source": [
        "print(\"No of Nodes= \",No_Of_Nodes(df))\n"
      ],
      "metadata": {
        "colab": {
          "base_uri": "https://localhost:8080/"
        },
        "id": "p_vVuAPCNXG6",
        "outputId": "d082020c-4485-4084-e3c6-f6491a60e468"
      },
      "execution_count": null,
      "outputs": [
        {
          "output_type": "stream",
          "name": "stdout",
          "text": [
            "No of Nodes=  5881\n"
          ]
        }
      ]
    },
    {
      "cell_type": "markdown",
      "source": [
        "### **Number Of Edges**"
      ],
      "metadata": {
        "id": "fwisw7k8JySU"
      }
    },
    {
      "cell_type": "code",
      "source": [
        "def No_Of_Edges(df):\n",
        "  df.drop_duplicates(inplace=True)\n",
        "  return len(df)"
      ],
      "metadata": {
        "id": "J7DKFZiNP0t3"
      },
      "execution_count": null,
      "outputs": []
    },
    {
      "cell_type": "code",
      "source": [
        "print(\"Number of Edges= \",No_Of_Edges(df))"
      ],
      "metadata": {
        "colab": {
          "base_uri": "https://localhost:8080/"
        },
        "id": "Qb4eMDvXQbOn",
        "outputId": "f9da974c-8535-447f-f9c2-299b6be8e469"
      },
      "execution_count": null,
      "outputs": [
        {
          "output_type": "stream",
          "name": "stdout",
          "text": [
            "Number of Edges=  35592\n"
          ]
        }
      ]
    },
    {
      "cell_type": "markdown",
      "source": [
        "### **Average In Degree**"
      ],
      "metadata": {
        "id": "tZoFslS1MQ-h"
      }
    },
    {
      "cell_type": "code",
      "source": [
        "def Average_In_Degree(df):\n",
        "  In_Degree={}\n",
        "  sum=0\n",
        "  for i in range(len(df)):\n",
        "    if df.iloc[i][1] in In_Degree:\n",
        "      In_Degree[df.iloc[i][1]]=In_Degree[df.iloc[i][1]]+1\n",
        "    else:\n",
        "      In_Degree[df.iloc[i][1]]=1\n",
        "    #print(len(In_Degree.keys()))\n",
        "  for keys in In_Degree.keys():\n",
        "    sum=sum+In_Degree[keys]\n",
        "  return sum/No_Of_Nodes(df)\n",
        "\n",
        "\n"
      ],
      "metadata": {
        "id": "9Ttis1uCMQI1"
      },
      "execution_count": null,
      "outputs": []
    },
    {
      "cell_type": "code",
      "source": [
        "print(\"Average In Degree= \",Average_In_Degree(df))"
      ],
      "metadata": {
        "colab": {
          "base_uri": "https://localhost:8080/"
        },
        "id": "9Ui6P8n-L08s",
        "outputId": "a216482e-4683-4449-f295-e5e88632aed6"
      },
      "execution_count": null,
      "outputs": [
        {
          "output_type": "stream",
          "name": "stdout",
          "text": [
            "Average In Degree=  6.052031967352491\n"
          ]
        }
      ]
    },
    {
      "cell_type": "markdown",
      "source": [
        "### **Average Out Degree**"
      ],
      "metadata": {
        "id": "8jFAkVTSS62-"
      }
    },
    {
      "cell_type": "code",
      "source": [
        "def Average_Out_Degree(df):\n",
        "  Out_Degree={}\n",
        "  sum=0\n",
        "  for i in range(len(df)):\n",
        "    if df.iloc[i][0] in Out_Degree:\n",
        "      Out_Degree[df.iloc[i][0]]=Out_Degree[df.iloc[i][0]]+1\n",
        "    else:\n",
        "      Out_Degree[df.iloc[i][0]]=1\n",
        "    #print(len(In_Degree.keys()))\n",
        "  for keys in Out_Degree.keys():\n",
        "    sum=sum+Out_Degree[keys]\n",
        "  return sum/No_Of_Nodes(df)"
      ],
      "metadata": {
        "id": "sXw2ydAuS6NA"
      },
      "execution_count": null,
      "outputs": []
    },
    {
      "cell_type": "code",
      "source": [
        "print(\"Average Out Degree= \",Average_Out_Degree(df))"
      ],
      "metadata": {
        "colab": {
          "base_uri": "https://localhost:8080/"
        },
        "id": "UCvJzSv5Jp-H",
        "outputId": "40048cdb-2abb-4950-a3e0-f78e8d62b676"
      },
      "execution_count": null,
      "outputs": [
        {
          "output_type": "stream",
          "name": "stdout",
          "text": [
            "Average Out Degree=  6.052031967352491\n"
          ]
        }
      ]
    },
    {
      "cell_type": "markdown",
      "source": [
        "### **Node with Max In_Degree**"
      ],
      "metadata": {
        "id": "L9eGgO8gWpGy"
      }
    },
    {
      "cell_type": "code",
      "source": [
        "def Max_In_Degree(df):\n",
        "  In_Degree={}\n",
        "  sum=0\n",
        "  max_val=0\n",
        "  for i in range(len(df)):\n",
        "    if df.iloc[i][1] in In_Degree:\n",
        "      In_Degree[df.iloc[i][1]]=In_Degree[df.iloc[i][1]]+1\n",
        "    else:\n",
        "      In_Degree[df.iloc[i][1]]=1\n",
        "    #print(len(In_Degree.keys()))\n",
        "  for keys in In_Degree.keys():\n",
        "    if max_val < In_Degree[keys]:\n",
        "      max_val=In_Degree[keys]\n",
        "      max_node=keys\n",
        "  return max_node\n",
        "\n",
        "\n"
      ],
      "metadata": {
        "id": "7B2Z2dEwTmfh"
      },
      "execution_count": null,
      "outputs": []
    },
    {
      "cell_type": "code",
      "source": [
        "print(Max_In_Degree(df))"
      ],
      "metadata": {
        "colab": {
          "base_uri": "https://localhost:8080/"
        },
        "id": "wDQdGQKXX7N9",
        "outputId": "7d611ce9-4784-4b09-a94f-f9be661ad268"
      },
      "execution_count": null,
      "outputs": [
        {
          "output_type": "stream",
          "name": "stdout",
          "text": [
            "35\n"
          ]
        }
      ]
    },
    {
      "cell_type": "markdown",
      "source": [
        "### **Node with Max Out_Degree**"
      ],
      "metadata": {
        "id": "zDgjL9WpYLoV"
      }
    },
    {
      "cell_type": "code",
      "source": [
        "def Max_Out_Degree(df):\n",
        "  In_Degree={}\n",
        "  sum=0\n",
        "  max_val=0\n",
        "  for i in range(len(df)):\n",
        "    if df.iloc[i][0] in In_Degree:\n",
        "      In_Degree[df.iloc[i][0]]=In_Degree[df.iloc[i][0]]+1\n",
        "    else:\n",
        "      In_Degree[df.iloc[i][0]]=1\n",
        "    #print(len(In_Degree.keys()))\n",
        "  for keys in In_Degree.keys():\n",
        "    if max_val < In_Degree[keys]:\n",
        "      max_val=In_Degree[keys]\n",
        "      max_node=keys\n",
        "  return max_node\n",
        "\n",
        "\n"
      ],
      "metadata": {
        "id": "cn5bT3xuYATj"
      },
      "execution_count": null,
      "outputs": []
    },
    {
      "cell_type": "code",
      "source": [
        "print(Max_Out_Degree(df))"
      ],
      "metadata": {
        "colab": {
          "base_uri": "https://localhost:8080/"
        },
        "id": "iEdXsnwXYmAF",
        "outputId": "931954a0-7f23-4c09-f7f4-664098fcfd33"
      },
      "execution_count": null,
      "outputs": [
        {
          "output_type": "stream",
          "name": "stdout",
          "text": [
            "35\n"
          ]
        }
      ]
    },
    {
      "cell_type": "markdown",
      "source": [
        "### **Density of Graph**"
      ],
      "metadata": {
        "id": "Tb7ZDCu3Z0bK"
      }
    },
    {
      "cell_type": "markdown",
      "source": [
        ""
      ],
      "metadata": {
        "id": "vfuK2StiZ0Xm"
      }
    },
    {
      "cell_type": "code",
      "source": [
        "def Density(df):\n",
        "  e=No_Of_Edges(df)\n",
        "  n=No_Of_Nodes(df)\n",
        "  return e/(n*(n-1))"
      ],
      "metadata": {
        "id": "z6PZm8C1Ynj1"
      },
      "execution_count": null,
      "outputs": []
    },
    {
      "cell_type": "code",
      "source": [
        "print(\"Density= \",Density(df))"
      ],
      "metadata": {
        "colab": {
          "base_uri": "https://localhost:8080/"
        },
        "id": "ziojxQWKaXV7",
        "outputId": "752ba9e0-119f-4cf4-9243-b4996ae89424"
      },
      "execution_count": null,
      "outputs": [
        {
          "output_type": "stream",
          "name": "stdout",
          "text": [
            "Density=  0.0010292571373048454\n"
          ]
        }
      ]
    },
    {
      "cell_type": "markdown",
      "source": [
        "### **Degree Distribution In Degree**"
      ],
      "metadata": {
        "id": "pw7O1IqJg4LX"
      }
    },
    {
      "cell_type": "code",
      "source": [
        "import matplotlib.pyplot as plt\n",
        "import numpy as np\n",
        "In_Degree={}\n",
        "for i in range(len(df)):\n",
        "  if df.iloc[i][1] in In_Degree:\n",
        "    In_Degree[df.iloc[i][1]]=In_Degree[df.iloc[i][1]]+1\n",
        "  else:\n",
        "    In_Degree[df.iloc[i][1]]=1\n",
        "\n",
        "plt.scatter(In_Degree.keys(), In_Degree.values())\n",
        "plt.title(\"Degree Distribution for In-Degree\")\n",
        "plt.xlabel(\"Node\")\n",
        "plt.ylabel(\"In-Degree\")\n",
        "plt.show()"
      ],
      "metadata": {
        "colab": {
          "base_uri": "https://localhost:8080/",
          "height": 295
        },
        "id": "IuR0BbGOabdv",
        "outputId": "04054b1b-b461-4384-aa53-28289de3eb35"
      },
      "execution_count": null,
      "outputs": [
        {
          "output_type": "display_data",
          "data": {
            "text/plain": [
              "<Figure size 432x288 with 1 Axes>"
            ],
            "image/png": "[encoded data removed]"
          },
          "metadata": {
            "needs_background": "light"
          }
        }
      ]
    },
    {
      "cell_type": "markdown",
      "source": [
        "### **Degree Distribution Out Degree**"
      ],
      "metadata": {
        "id": "sJGDwinNhHkp"
      }
    },
    {
      "cell_type": "code",
      "source": [
        "import matplotlib.pyplot as plt\n",
        "import numpy as np\n",
        "Out_Degree={}\n",
        "for i in range(len(df)):\n",
        "  if df.iloc[i][0] in Out_Degree:\n",
        "    Out_Degree[df.iloc[i][0]]=Out_Degree[df.iloc[i][0]]+1\n",
        "  else:\n",
        "    Out_Degree[df.iloc[i][0]]=1\n",
        "plt.title(\"Degree Distribution for Out-Degree\")\n",
        "plt.xlabel(\"Node\")\n",
        "plt.ylabel(\"Out-Degree\")\n",
        "plt.scatter(Out_Degree.keys(), Out_Degree.values())\n",
        "plt.show()"
      ],
      "metadata": {
        "colab": {
          "base_uri": "https://localhost:8080/",
          "height": 295
        },
        "id": "VEpYS5bRfOfr",
        "outputId": "cb1bfad9-0bdb-4aa9-cf61-ca2e5858f1d6"
      },
      "execution_count": null,
      "outputs": [
        {
          "output_type": "display_data",
          "data": {
            "text/plain": [
              "<Figure size 432x288 with 1 Axes>"
            ],
            "image/png": "[encoded data removed]"
          },
          "metadata": {
            "needs_background": "light"
          }
        }
      ]
    },
    {
      "cell_type": "markdown",
      "source": [
        "### **Adjacency Matrix**"
      ],
      "metadata": {
        "id": "OKvpnX9Q4I5_"
      }
    },
    {
      "cell_type": "code",
      "source": [
        "rows, cols = (6006, 6006)\n",
        "arr = [[0 for i in range(cols)] for j in range(rows)]\n",
        "for i in range(len(df)):\n",
        "  arr[df.iloc[i][0]][df.iloc[i][1]]=1\n",
        "#arr"
      ],
      "metadata": {
        "id": "QITuj82fgVbY"
      },
      "execution_count": null,
      "outputs": []
    },
    {
      "cell_type": "markdown",
      "source": [
        "### **Edge List**"
      ],
      "metadata": {
        "id": "Li0Va9Nk4-gU"
      }
    },
    {
      "cell_type": "code",
      "source": [
        "row=[]\n",
        "edge_list=[]\n",
        "for i in range(len(df)):\n",
        "  row=[]\n",
        "  row.append(df.iloc[i][0])\n",
        "  row.append(df.iloc[i][1])\n",
        "  edge_list.append(row)\n",
        "#edge_list\n",
        "  "
      ],
      "metadata": {
        "id": "l40S8AbG1Vse"
      },
      "execution_count": null,
      "outputs": []
    },
    {
      "cell_type": "markdown",
      "source": [
        "### Local Clustering Coefficient"
      ],
      "metadata": {
        "id": "T-z12ZYTw2YW"
      }
    },
    {
      "cell_type": "code",
      "source": [
        "LCC = []\n",
        "for i in range(len(arr)):\n",
        "  Neighbours = []\n",
        "  for j in range(len(arr)):\n",
        "    if arr[i][j] == 1 or arr[j][i] == 1:\n",
        "      Neighbours.append(j)\n",
        "  Actual_Links = 0\n",
        "  if len(Neighbours)>0:\n",
        "    for k in range(len(Neighbours)-1):\n",
        "      for l in range(k+1,len(Neighbours)):\n",
        "        if arr[Neighbours[k]][Neighbours[l]] == 1 or arr[Neighbours[l]][Neighbours[k]] == 1:\n",
        "          Actual_Links += 1      \n",
        "  Possible_Links = (len(Neighbours) * (len(Neighbours) - 1))/2\n",
        "\n",
        "  if(Possible_Links == 0):\n",
        "    LCC.append(0)\n",
        "  else:\n",
        "    LCC.append(Actual_Links/Possible_Links)\n",
        "#Plotting Local Clustering Coefficient\n",
        "fig, ax = plt.subplots(figsize =(10, 7))\n",
        "#ax.set_title(\"Title\")\n",
        "ax.set_xlabel('Local Clustering Coefficient')\n",
        "ax.set_ylabel('Frequency')\n",
        "ax.hist(LCC)\n",
        "plt.show()"
      ],
      "metadata": {
        "id": "Am7P9YzwzXS6",
        "colab": {
          "base_uri": "https://localhost:8080/",
          "height": 442
        },
        "outputId": "748f6b20-3cf1-4379-844a-c225b83a0607"
      },
      "execution_count": null,
      "outputs": [
        {
          "output_type": "display_data",
          "data": {
            "text/plain": [
              "<Figure size 720x504 with 1 Axes>"
            ],
            "image/png": "[encoded data removed]"
          },
          "metadata": {
            "needs_background": "light"
          }
        }
      ]
    }
  ]
}